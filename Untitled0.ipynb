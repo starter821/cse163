{
  "nbformat": 4,
  "nbformat_minor": 0,
  "metadata": {
    "colab": {
      "provenance": [],
      "authorship_tag": "ABX9TyPJm4mj8WLQxmcywEXYSblC"
    },
    "kernelspec": {
      "name": "python3",
      "display_name": "Python 3"
    },
    "language_info": {
      "name": "python"
    }
  },
  "cells": [
    {
      "cell_type": "code",
      "execution_count": null,
      "metadata": {
        "id": "DjBOB2J4E_8s"
      },
      "outputs": [],
      "source": []
    },
    {
      "cell_type": "markdown",
      "source": [],
      "metadata": {
        "id": "MRrMdJJVhfET"
      }
    },
    {
      "cell_type": "code",
      "source": [
        "import pandas as pd\n",
        "import plotly.express as px\n",
        "\n",
        "# Read CSV file\n",
        "data = pd.read_csv('incident.csv')\n",
        "\n",
        "# Convert the Incident_Date to a datetime object\n",
        "data['Incident_Date'] = pd.to_datetime(data['Incident_Date'])\n",
        "\n",
        "# Filter the data from 2015 to 2021\n",
        "data = data[(data['Incident_Date'].dt.year >= 2015) & (data['Incident_Date'].dt.year <= 2021)]\n",
        "\n",
        "# Create a pie chart for a given year\n",
        "def create_pie_chart(year):\n",
        "    # Filter the data by the given year\n",
        "    filtered_data = data[data['Incident_Date'].dt.year == year]\n",
        "\n",
        "    # Get the total number of killed and injured cases for each state\n",
        "    state_totals = filtered_data.groupby('State_Code')[['Killed', 'Injured']].sum()\n",
        "\n",
        "    # Get the top five states with the most gun violence cases\n",
        "    top_states = state_totals.sum(axis=1).nlargest(5)\n",
        "\n",
        "    # Combine all other states as \"Other\"\n",
        "    other_states = pd.Series(data=state_totals.sum(axis=1)[~state_totals.sum(axis=1).index.isin(top_states.index)].sum(), index=['Other'])\n",
        "\n",
        "    # Combine the top five states and \"Other\"\n",
        "    combined_states = pd.concat([top_states, other_states])\n",
        "\n",
        "    # Create a pie chart\n",
        "    fig = px.pie(combined_states, values=combined_states, names=combined_states.index, title=f'Gun Violence Cases by State ({year})')\n",
        "\n",
        "    return fig\n",
        "\n",
        "# User input\n",
        "year_input = input('Enter a year between 2015 and 2021 (or \"q\" to quit): ')\n",
        "\n",
        "if year_input.lower() == 'q':\n",
        "    print('Program has been shut down :D')\n",
        "# Easter Egg\n",
        "elif year_input.lower() == 'go':\n",
        "    print('Huskies!')\n",
        "else:\n",
        "    if not year_input.isnumeric():\n",
        "        print('Invalid input. Please enter a valid year (e.g. 2015) or \"q\" to quit.')\n",
        "    else:\n",
        "        year = int(year_input)\n",
        "        if year < 2015 or year > 2021:\n",
        "            print('Invalid input. Please enter a year between 2015 and 2021.')\n",
        "        else:\n",
        "            fig = create_pie_chart(year)\n",
        "            fig.show()"
      ],
      "metadata": {
        "colab": {
          "base_uri": "https://localhost:8080/"
        },
        "id": "LxQtRhCxFi8o",
        "outputId": "c119f5df-5456-4fa6-ec50-933f3b86c072"
      },
      "execution_count": 94,
      "outputs": [
        {
          "output_type": "stream",
          "name": "stdout",
          "text": [
            "Enter a year between 2015 and 2021 (or \"q\" to quit): go\n",
            "Huskies!\n"
          ]
        }
      ]
    }
  ]
}